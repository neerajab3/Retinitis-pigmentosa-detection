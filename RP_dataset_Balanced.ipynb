{
 "cells": [
  {
   "cell_type": "code",
   "execution_count": null,
   "metadata": {},
   "outputs": [
    {
     "name": "stdout",
     "output_type": "stream",
     "text": [
      "Loading Libraries Done\n"
     ]
    }
   ],
   "source": [
    "import os\n",
    "import cv2\n",
    "import numpy as np\n",
    "from PIL import Image\n",
    "import matplotlib.pyplot as plt\n",
    "from tqdm import tqdm\n",
    "from collections import defaultdict\n",
    "\n",
    "from sklearn.model_selection import train_test_split\n",
    "from tensorflow import keras\n",
    "\n",
    "from tensorflow.keras.layers import Dense, Flatten\n",
    "from tensorflow.keras.models import Model\n",
    "\n",
    "# from tensorflow.keras.applications.vgg19 import VGG19\n",
    "from tensorflow.keras.models import Sequential\n",
    "from tensorflow.keras.layers import Conv2D, MaxPooling2D, Flatten, Dense, Dropout, BatchNormalization\n",
    "\n",
    "from tensorflow.keras.preprocessing.image import ImageDataGenerator\n",
    "from tensorflow.keras.callbacks import EarlyStopping, ReduceLROnPlateau\n",
    "\n",
    "from tensorflow.keras.callbacks import ModelCheckpoint\n",
    "\n",
    "\n",
    "\n",
    "import tensorflow as tf\n",
    "tf.compat.v1.logging.set_verbosity(tf.compat.v1.logging.ERROR)\n",
    "os.environ['TF_CPP_MIN_LOG_LEVEL'] = '3'\n",
    "\n",
    "from sklearn.metrics import accuracy_score,classification_report,confusion_matrix\n",
    "\n",
    "import ssl\n",
    "try:\n",
    "    _create_unverified_https_context = ssl._create_unverified_context\n",
    "except AttributeError:\n",
    "    pass\n",
    "else:\n",
    "    ssl._create_default_https_context = _create_unverified_https_context\n",
    "\n",
    "import gc\n",
    "\n",
    "print(\"Loading Libraries Done\")"
   ]
  },
  {
   "cell_type": "code",
   "execution_count": 49,
   "metadata": {},
   "outputs": [
    {
     "name": "stdout",
     "output_type": "stream",
     "text": [
      "['Normal', 'RP'] 2\n"
     ]
    }
   ],
   "source": [
    "main_folder =\"D:\\\\Neeru\\\\Python & DataScience\\\\Live projects\\\\RP_Project\\\\RP_dataset\"\n",
    "\n",
    "categories = os.listdir(main_folder)\n",
    "# try:\n",
    "#     categories.remove(\".DS_Store\")\n",
    "# except:\n",
    "#     pass\n",
    "print(categories, len(categories))"
   ]
  },
  {
   "cell_type": "code",
   "execution_count": null,
   "metadata": {},
   "outputs": [],
   "source": [
    "\n",
    "IMAGE_SIZE = (224, 224, 3)\n",
    "\n",
    "def image_preprocessing_with_balanced_augmentation(main_folder, categories):\n",
    "    img_lst = []\n",
    "    labels = []\n",
    "\n",
    "    image_counts = defaultdict(int)\n",
    "    image_paths_by_class = defaultdict(list)\n",
    "\n",
    "    # Step 1: Collect image paths\n",
    "    for index, category in enumerate(categories):\n",
    "        folder_path = os.path.join(main_folder, category)\n",
    "        for image_name in os.listdir(folder_path):\n",
    "            file_ext = image_name.split(\".\")[-1].lower()\n",
    "            if file_ext in [\"jpg\", \"jpeg\", \"png\", \"bmp\"]:\n",
    "                image_counts[index] += 1\n",
    "                image_paths_by_class[index].append(os.path.join(folder_path, image_name))\n",
    "\n",
    "    max_count = max(image_counts.values())  # 2676 in your case\n",
    "\n",
    "    # Step 2: Load images and augment only the minority class\n",
    "    for index, category in enumerate(categories):\n",
    "        print(f\"Processing category: {category}\")\n",
    "\n",
    "        current_images = image_paths_by_class[index]\n",
    "        total_original = len(current_images)\n",
    "        augment_needed = max_count - total_original\n",
    "        augmented_count = 0\n",
    "\n",
    "        for image_path in tqdm(current_images):\n",
    "            try:\n",
    "                img = cv2.imread(image_path)\n",
    "                img = cv2.resize(img, (IMAGE_SIZE[0], IMAGE_SIZE[1]))\n",
    "                img = cv2.cvtColor(img, cv2.COLOR_BGR2RGB)\n",
    "\n",
    "                # Add original image\n",
    "                img_lst.append(np.array(img))\n",
    "                labels.append(index)\n",
    "\n",
    "                # Augment only the minority class\n",
    "                if augment_needed > 0 and augmented_count < augment_needed:\n",
    "                    for aug_img in [cv2.rotate(img, cv2.ROTATE_90_CLOCKWISE),\n",
    "                                    cv2.flip(img, 1),\n",
    "                                    cv2.flip(img, 0)]:\n",
    "                        if augmented_count >= augment_needed:\n",
    "                            break\n",
    "                        img_lst.append(np.array(aug_img))\n",
    "                        labels.append(index)\n",
    "                        augmented_count += 1\n",
    "\n",
    "            except Exception as e:\n",
    "                print(\"Error with image:\", image_path, e)\n",
    "\n",
    "        # ✅ Debug print for RP class\n",
    "        if category == \"RP\":\n",
    "            print(f\"Augmented RP image count: {augmented_count}\")\n",
    "\n",
    "    # Step 3: Convert to numpy arrays\n",
    "    images = np.array(img_lst, dtype=np.float32) / 255.0\n",
    "    labels = np.array(labels, dtype=np.int8)\n",
    "    return images, labels\n"
   ]
  },
  {
   "cell_type": "code",
   "execution_count": 51,
   "metadata": {},
   "outputs": [
    {
     "name": "stdout",
     "output_type": "stream",
     "text": [
      "Processing category: Normal\n"
     ]
    },
    {
     "name": "stderr",
     "output_type": "stream",
     "text": [
      "100%|██████████| 2676/2676 [01:13<00:00, 36.47it/s]\n"
     ]
    },
    {
     "name": "stdout",
     "output_type": "stream",
     "text": [
      "Processing category: RP\n"
     ]
    },
    {
     "name": "stderr",
     "output_type": "stream",
     "text": [
      "100%|██████████| 834/834 [00:22<00:00, 37.72it/s]\n"
     ]
    },
    {
     "name": "stdout",
     "output_type": "stream",
     "text": [
      "Augmented RP image count: 1842\n",
      "Balanced dataset shape: (5352, 224, 224, 3) (5352,)\n"
     ]
    }
   ],
   "source": [
    "images, labels = image_preprocessing_with_balanced_augmentation(main_folder, categories)\n",
    "print(\"Balanced dataset shape:\", images.shape, labels.shape)\n"
   ]
  },
  {
   "cell_type": "code",
   "execution_count": 52,
   "metadata": {},
   "outputs": [
    {
     "name": "stdout",
     "output_type": "stream",
     "text": [
      "x_train shape: (4334, 224, 224, 3)\n",
      "y_train shape: (4334,)\n",
      "x_val shape: (482, 224, 224, 3)\n",
      "y_val shape: (482,)\n",
      "x_test shape: (536, 224, 224, 3)\n",
      "y_test shape: (536,)\n"
     ]
    }
   ],
   "source": [
    "# x_train, x_test, y_train, y_test = train_test_split(images, labels, test_size = 0.1, random_state = 6)\n",
    "# print(\"x_train shape = \",x_train.shape)\n",
    "# print(\"y_train shape = \",y_train.shape)\n",
    "# print(\"\\nx_test shape = \",x_test.shape)\n",
    "# print(\"y_test shape = \",y_test.shape)\n",
    "\n",
    "# First split into train+val and test\n",
    "x_temp, x_test, y_temp, y_test = train_test_split(images, labels, test_size=0.1, random_state=6)\n",
    "\n",
    "# Then split x_temp into train and val\n",
    "x_train, x_val, y_train, y_val = train_test_split(x_temp, y_temp, test_size=0.1, random_state=6)\n",
    "\n",
    "print(\"x_train shape:\", x_train.shape)\n",
    "print(\"y_train shape:\", y_train.shape)\n",
    "print(\"x_val shape:\", x_val.shape)\n",
    "print(\"y_val shape:\", y_val.shape)\n",
    "print(\"x_test shape:\", x_test.shape)\n",
    "print(\"y_test shape:\", y_test.shape)\n"
   ]
  },
  {
   "cell_type": "code",
   "execution_count": 53,
   "metadata": {},
   "outputs": [],
   "source": [
    "del labels\n",
    "del images"
   ]
  },
  {
   "cell_type": "code",
   "execution_count": 54,
   "metadata": {},
   "outputs": [],
   "source": [
    "EPOCHS = 10\n",
    "BATCH_SIZE = 16"
   ]
  },
  {
   "cell_type": "markdown",
   "metadata": {},
   "source": [
    "### CNN MODEL"
   ]
  },
  {
   "cell_type": "code",
   "execution_count": 55,
   "metadata": {},
   "outputs": [
    {
     "name": "stderr",
     "output_type": "stream",
     "text": [
      "c:\\Users\\hp\\AppData\\Local\\Programs\\Python\\Python39\\lib\\site-packages\\keras\\src\\layers\\convolutional\\base_conv.py:107: UserWarning: Do not pass an `input_shape`/`input_dim` argument to a layer. When using Sequential models, prefer using an `Input(shape)` object as the first layer in the model instead.\n",
      "  super().__init__(activity_regularizer=activity_regularizer, **kwargs)\n"
     ]
    }
   ],
   "source": [
    "model = Sequential()\n",
    "\n",
    "# Conv Block 1\n",
    "model.add(Conv2D(32, (3, 3), activation='relu', input_shape=(224, 224, 3)))\n",
    "model.add(BatchNormalization())\n",
    "model.add(MaxPooling2D(2, 2))\n",
    "\n",
    "# Conv Block 2\n",
    "model.add(Conv2D(64, (3, 3), activation='relu'))\n",
    "model.add(BatchNormalization())\n",
    "model.add(MaxPooling2D(2, 2))\n",
    "\n",
    "# Conv Block 3\n",
    "model.add(Conv2D(128, (3, 3), activation='relu'))\n",
    "model.add(BatchNormalization())\n",
    "model.add(MaxPooling2D(2, 2))\n",
    "\n",
    "# Flatten + Dense Layers\n",
    "model.add(Flatten())\n",
    "model.add(Dense(128, activation='relu'))\n",
    "model.add(Dropout(0.5))  # Prevent overfitting\n",
    "model.add(Dense(1, activation='sigmoid'))  # Binary classification\n"
   ]
  },
  {
   "cell_type": "code",
   "execution_count": 56,
   "metadata": {},
   "outputs": [],
   "source": [
    "model.compile(\n",
    "    optimizer='adam',\n",
    "    loss='binary_crossentropy',\n",
    "    metrics=['accuracy']\n",
    ")"
   ]
  },
  {
   "cell_type": "code",
   "execution_count": 57,
   "metadata": {},
   "outputs": [],
   "source": [
    "#Early stopping to avoid overfitting of model\n",
    "early_stop = EarlyStopping(\n",
    "    monitor='val_accuracy', \n",
    "    patience=3, \n",
    "    restore_best_weights=True,\n",
    "    verbose=1\n",
    ")\n"
   ]
  },
  {
   "cell_type": "markdown",
   "metadata": {},
   "source": [
    "### Model Training"
   ]
  },
  {
   "cell_type": "code",
   "execution_count": 63,
   "metadata": {},
   "outputs": [
    {
     "name": "stdout",
     "output_type": "stream",
     "text": [
      "Epoch 1/10\n",
      "\u001b[1m271/271\u001b[0m \u001b[32m━━━━━━━━━━━━━━━━━━━━\u001b[0m\u001b[37m\u001b[0m \u001b[1m176s\u001b[0m 641ms/step - accuracy: 0.8366 - loss: 1.7208 - val_accuracy: 0.8195 - val_loss: 0.6647\n",
      "Epoch 2/10\n",
      "\u001b[1m271/271\u001b[0m \u001b[32m━━━━━━━━━━━━━━━━━━━━\u001b[0m\u001b[37m\u001b[0m \u001b[1m181s\u001b[0m 668ms/step - accuracy: 0.8738 - loss: 0.2528 - val_accuracy: 0.9004 - val_loss: 0.2813\n",
      "Epoch 3/10\n",
      "\u001b[1m271/271\u001b[0m \u001b[32m━━━━━━━━━━━━━━━━━━━━\u001b[0m\u001b[37m\u001b[0m \u001b[1m178s\u001b[0m 657ms/step - accuracy: 0.8835 - loss: 0.2589 - val_accuracy: 0.9627 - val_loss: 0.1061\n",
      "Epoch 4/10\n",
      "\u001b[1m271/271\u001b[0m \u001b[32m━━━━━━━━━━━━━━━━━━━━\u001b[0m\u001b[37m\u001b[0m \u001b[1m188s\u001b[0m 694ms/step - accuracy: 0.8936 - loss: 0.2236 - val_accuracy: 0.9481 - val_loss: 0.1510\n",
      "Epoch 5/10\n",
      "\u001b[1m271/271\u001b[0m \u001b[32m━━━━━━━━━━━━━━━━━━━━\u001b[0m\u001b[37m\u001b[0m \u001b[1m177s\u001b[0m 653ms/step - accuracy: 0.9062 - loss: 0.2132 - val_accuracy: 0.9066 - val_loss: 0.2818\n",
      "Epoch 6/10\n",
      "\u001b[1m271/271\u001b[0m \u001b[32m━━━━━━━━━━━━━━━━━━━━\u001b[0m\u001b[37m\u001b[0m \u001b[1m177s\u001b[0m 652ms/step - accuracy: 0.9067 - loss: 0.2200 - val_accuracy: 0.8278 - val_loss: 0.6564\n",
      "Epoch 6: early stopping\n",
      "Restoring model weights from the end of the best epoch: 3.\n"
     ]
    }
   ],
   "source": [
    "# fit the model\n",
    "history = model.fit(\n",
    "    x_train, y_train,\n",
    "    validation_data=(x_val, y_val),\n",
    "    epochs=EPOCHS,\n",
    "    batch_size=BATCH_SIZE,\n",
    "    callbacks=[early_stop],\n",
    "    shuffle=True\n",
    ")\n",
    "\n",
    "# history = model.fit(x_train, y_train, \n",
    "#                             validation_data=(x_test, y_test), \n",
    "#                             steps_per_epoch = 10, epochs=EPOCHS, callbacks=[early_stop], \n",
    "#                             batch_size=BATCH_SIZE, \n",
    "#                             validation_steps = y_test.shape[0]//BATCH_SIZE, shuffle=True)"
   ]
  },
  {
   "cell_type": "code",
   "execution_count": 64,
   "metadata": {},
   "outputs": [
    {
     "name": "stdout",
     "output_type": "stream",
     "text": [
      "\u001b[1m17/17\u001b[0m \u001b[32m━━━━━━━━━━━━━━━━━━━━\u001b[0m\u001b[37m\u001b[0m \u001b[1m4s\u001b[0m 232ms/step - accuracy: 0.9668 - loss: 0.0853\n",
      "model Loss: 0.08889966458082199\n",
      "model Accuracy: 96.45522236824036 %\n"
     ]
    }
   ],
   "source": [
    "tf.keras.backend.clear_session()\n",
    "loss, acc = model.evaluate(x_test,y_test,batch_size=32)\n",
    "print(\"model Loss:\", loss)\n",
    "print(\"model Accuracy:\", acc*100, \"%\")"
   ]
  },
  {
   "cell_type": "code",
   "execution_count": 65,
   "metadata": {},
   "outputs": [
    {
     "data": {
      "image/png": "[encoded data removed]",
      "text/plain": [
       "<Figure size 640x480 with 1 Axes>"
      ]
     },
     "metadata": {},
     "output_type": "display_data"
    }
   ],
   "source": [
    "# accuracies\n",
    "plt.plot(history.history['accuracy'], label='train acc')\n",
    "plt.plot(history.history['val_accuracy'], label='val acc')\n",
    "plt.title(\"model Accuracy\")\n",
    "plt.legend()\n",
    "plt.show()"
   ]
  },
  {
   "cell_type": "code",
   "execution_count": 66,
   "metadata": {},
   "outputs": [
    {
     "data": {
      "image/png": "[encoded data removed]",
      "text/plain": [
       "<Figure size 640x480 with 1 Axes>"
      ]
     },
     "metadata": {},
     "output_type": "display_data"
    }
   ],
   "source": [
    "# loss\n",
    "plt.plot(history.history['loss'], label='train loss')\n",
    "plt.plot(history.history['val_loss'], label='val loss')\n",
    "plt.title(\"model Loss\")\n",
    "plt.legend()\n",
    "plt.show()"
   ]
  },
  {
   "cell_type": "code",
   "execution_count": 67,
   "metadata": {},
   "outputs": [
    {
     "name": "stdout",
     "output_type": "stream",
     "text": [
      "\u001b[1m17/17\u001b[0m \u001b[32m━━━━━━━━━━━━━━━━━━━━\u001b[0m\u001b[37m\u001b[0m \u001b[1m4s\u001b[0m 230ms/step\n",
      "              precision    recall  f1-score   support\n",
      "\n",
      "           0       0.96      0.97      0.96       267\n",
      "           1       0.97      0.96      0.96       269\n",
      "\n",
      "    accuracy                           0.96       536\n",
      "   macro avg       0.96      0.96      0.96       536\n",
      "weighted avg       0.96      0.96      0.96       536\n",
      "\n"
     ]
    }
   ],
   "source": [
    "#predict\n",
    "y_pred = model.predict(x_test)\n",
    "y_pred = (y_pred > 0.5).astype(\"int32\").flatten()\n",
    "print(classification_report(y_pred,y_test))#get classification report"
   ]
  },
  {
   "cell_type": "code",
   "execution_count": 70,
   "metadata": {},
   "outputs": [
    {
     "name": "stderr",
     "output_type": "stream",
     "text": [
      "WARNING:absl:The `save_format` argument is deprecated in Keras 3. We recommend removing this argument as it can be inferred from the file path. Received: save_format=h5\n",
      "WARNING:absl:You are saving your model as an HDF5 file via `model.save()` or `keras.saving.save_model(model)`. This file format is considered legacy. We recommend using instead the native Keras format, e.g. `model.save('my_model.keras')` or `keras.saving.save_model(model, 'my_model.keras')`. \n"
     ]
    },
    {
     "name": "stdout",
     "output_type": "stream",
     "text": [
      "[[258   9]\n",
      " [ 10 259]]\n"
     ]
    }
   ],
   "source": [
    "print(confusion_matrix(y_pred,y_test))#get confusion matrix\n",
    "\n",
    "model.save(\"RP_detection_model.h5\", save_format=\"h5\")\n"
   ]
  }
 ],
 "metadata": {
  "kernelspec": {
   "display_name": "Python 3",
   "language": "python",
   "name": "python3"
  },
  "language_info": {
   "codemirror_mode": {
    "name": "ipython",
    "version": 3
   },
   "file_extension": ".py",
   "mimetype": "text/x-python",
   "name": "python",
   "nbconvert_exporter": "python",
   "pygments_lexer": "ipython3",
   "version": "3.9.13"
  }
 },
 "nbformat": 4,
 "nbformat_minor": 2
}
